{
  "nbformat": 4,
  "nbformat_minor": 0,
  "metadata": {
    "colab": {
      "provenance": [],
      "machine_shape": "hm",
      "authorship_tag": "ABX9TyOFJ58xbq9GNT4lUTQtfHkV",
      "include_colab_link": true
    },
    "kernelspec": {
      "name": "python3",
      "display_name": "Python 3"
    },
    "language_info": {
      "name": "python"
    },
    "accelerator": "GPU",
    "gpuClass": "standard"
  },
  "cells": [
    {
      "cell_type": "markdown",
      "metadata": {
        "id": "view-in-github",
        "colab_type": "text"
      },
      "source": [
        "<a href=\"https://colab.research.google.com/github/guanidine/Generative-Adversarial-Networks/blob/main/notebook/pix2pix.ipynb\" target=\"_parent\"><img src=\"https://colab.research.google.com/assets/colab-badge.svg\" alt=\"Open In Colab\"/></a>"
      ]
    },
    {
      "cell_type": "markdown",
      "source": [
        "## Preparation"
      ],
      "metadata": {
        "id": "-dI-MHRJKnuU"
      }
    },
    {
      "cell_type": "code",
      "execution_count": 1,
      "metadata": {
        "colab": {
          "base_uri": "https://localhost:8080/"
        },
        "id": "EcKmwVkHFPIX",
        "outputId": "1ae4f3f2-0b02-42dc-bc11-35d9d529a09b"
      },
      "outputs": [
        {
          "output_type": "stream",
          "name": "stdout",
          "text": [
            "Cloning into 'Generative-Adversarial-Networks'...\n",
            "remote: Enumerating objects: 203, done.\u001b[K\n",
            "remote: Counting objects: 100% (157/157), done.\u001b[K\n",
            "remote: Compressing objects: 100% (117/117), done.\u001b[K\n",
            "remote: Total 203 (delta 67), reused 109 (delta 35), pack-reused 46\u001b[K\n",
            "Receiving objects: 100% (203/203), 76.83 MiB | 33.28 MiB/s, done.\n",
            "Resolving deltas: 100% (69/69), done.\n"
          ]
        }
      ],
      "source": [
        "!git clone https://github.com/guanidine/Generative-Adversarial-Networks.git"
      ]
    },
    {
      "cell_type": "code",
      "source": [
        "%cd Generative-Adversarial-Networks/06.Pix2Pix"
      ],
      "metadata": {
        "colab": {
          "base_uri": "https://localhost:8080/"
        },
        "id": "E57Rd9XHF51f",
        "outputId": "3d74b83b-eb8d-4484-b06f-c766138c83d3"
      },
      "execution_count": 2,
      "outputs": [
        {
          "output_type": "stream",
          "name": "stdout",
          "text": [
            "/content/Generative-Adversarial-Networks/06.Pix2Pix\n"
          ]
        }
      ]
    },
    {
      "cell_type": "code",
      "source": [
        "# Upload data/map, *.pth.tar to Drive first\n",
        "from google.colab import drive\n",
        "drive.mount('/content/drive',force_remount = True)"
      ],
      "metadata": {
        "colab": {
          "base_uri": "https://localhost:8080/"
        },
        "id": "MlnOcCNAGN7v",
        "outputId": "de0df767-9037-4a84-bf02-23cf7e96f44b"
      },
      "execution_count": 3,
      "outputs": [
        {
          "output_type": "stream",
          "name": "stdout",
          "text": [
            "Mounted at /content/drive\n"
          ]
        }
      ]
    },
    {
      "cell_type": "code",
      "source": [
        "!unzip -q /content/drive/MyDrive/data.zip\n",
        "!cp  /content/drive/MyDrive/gen.pth.tar gen.pth.tar\n",
        "!cp  /content/drive/MyDrive/disc.pth.tar disc.pth.tar\n",
        "!mkdir evaluation"
      ],
      "metadata": {
        "id": "6bjAoKAsIf7r"
      },
      "execution_count": null,
      "outputs": []
    },
    {
      "cell_type": "markdown",
      "source": [
        "## Train"
      ],
      "metadata": {
        "id": "81ts_oeQKq-s"
      }
    },
    {
      "cell_type": "code",
      "source": [
        "!sed -i '12s/500/10/' config.py"
      ],
      "metadata": {
        "id": "KwCa3Vz6KvJm"
      },
      "execution_count": 5,
      "outputs": []
    },
    {
      "cell_type": "code",
      "source": [
        "!python train.py"
      ],
      "metadata": {
        "colab": {
          "base_uri": "https://localhost:8080/"
        },
        "id": "pBGvt_xaIjIR",
        "outputId": "92fe5655-6f18-4dfb-f6f1-65bd4e8400b5"
      },
      "execution_count": 6,
      "outputs": [
        {
          "output_type": "stream",
          "name": "stdout",
          "text": [
            "=> Loading checkpoint\n",
            "=> Loading checkpoint\n",
            "['758.jpg', '634.jpg', '169.jpg', '917.jpg', '822.jpg', '364.jpg', '795.jpg', '24.jpg', '356.jpg', '256.jpg', '63.jpg', '80.jpg', '236.jpg', '267.jpg', '182.jpg', '809.jpg', '17.jpg', '766.jpg', '266.jpg', '964.jpg', '252.jpg', '1090.jpg', '973.jpg', '703.jpg', '331.jpg', '587.jpg', '248.jpg', '1047.jpg', '588.jpg', '636.jpg', '284.jpg', '739.jpg', '714.jpg', '57.jpg', '757.jpg', '78.jpg', '781.jpg', '312.jpg', '1073.jpg', '893.jpg', '542.jpg', '977.jpg', '631.jpg', '702.jpg', '464.jpg', '727.jpg', '243.jpg', '644.jpg', '694.jpg', '523.jpg', '900.jpg', '734.jpg', '506.jpg', '403.jpg', '303.jpg', '888.jpg', '579.jpg', '31.jpg', '382.jpg', '615.jpg', '231.jpg', '449.jpg', '974.jpg', '632.jpg', '222.jpg', '923.jpg', '380.jpg', '932.jpg', '496.jpg', '719.jpg', '47.jpg', '125.jpg', '572.jpg', '736.jpg', '593.jpg', '981.jpg', '309.jpg', '414.jpg', '276.jpg', '270.jpg', '144.jpg', '296.jpg', '723.jpg', '910.jpg', '1022.jpg', '1001.jpg', '465.jpg', '942.jpg', '728.jpg', '226.jpg', '773.jpg', '570.jpg', '913.jpg', '783.jpg', '153.jpg', '768.jpg', '280.jpg', '326.jpg', '753.jpg', '5.jpg', '771.jpg', '647.jpg', '899.jpg', '754.jpg', '291.jpg', '648.jpg', '167.jpg', '396.jpg', '136.jpg', '995.jpg', '958.jpg', '475.jpg', '841.jpg', '852.jpg', '502.jpg', '943.jpg', '387.jpg', '971.jpg', '902.jpg', '110.jpg', '584.jpg', '554.jpg', '777.jpg', '829.jpg', '921.jpg', '518.jpg', '618.jpg', '986.jpg', '294.jpg', '156.jpg', '316.jpg', '941.jpg', '44.jpg', '859.jpg', '103.jpg', '350.jpg', '1068.jpg', '614.jpg', '249.jpg', '446.jpg', '1037.jpg', '1038.jpg', '838.jpg', '563.jpg', '804.jpg', '751.jpg', '106.jpg', '742.jpg', '53.jpg', '711.jpg', '833.jpg', '891.jpg', '102.jpg', '378.jpg', '818.jpg', '846.jpg', '1021.jpg', '745.jpg', '1085.jpg', '699.jpg', '1035.jpg', '366.jpg', '1056.jpg', '370.jpg', '840.jpg', '908.jpg', '70.jpg', '775.jpg', '680.jpg', '183.jpg', '989.jpg', '96.jpg', '438.jpg', '165.jpg', '264.jpg', '472.jpg', '90.jpg', '1042.jpg', '658.jpg', '278.jpg', '418.jpg', '99.jpg', '94.jpg', '207.jpg', '361.jpg', '154.jpg', '585.jpg', '13.jpg', '515.jpg', '359.jpg', '613.jpg', '505.jpg', '1028.jpg', '689.jpg', '451.jpg', '887.jpg', '259.jpg', '866.jpg', '1051.jpg', '896.jpg', '1050.jpg', '201.jpg', '487.jpg', '933.jpg', '227.jpg', '603.jpg', '305.jpg', '194.jpg', '794.jpg', '573.jpg', '914.jpg', '219.jpg', '274.jpg', '671.jpg', '327.jpg', '377.jpg', '336.jpg', '810.jpg', '835.jpg', '767.jpg', '45.jpg', '844.jpg', '831.jpg', '1055.jpg', '709.jpg', '619.jpg', '87.jpg', '288.jpg', '832.jpg', '733.jpg', '526.jpg', '19.jpg', '1062.jpg', '466.jpg', '698.jpg', '1016.jpg', '385.jpg', '164.jpg', '984.jpg', '682.jpg', '965.jpg', '877.jpg', '486.jpg', '1084.jpg', '123.jpg', '1020.jpg', '664.jpg', '683.jpg', '642.jpg', '1075.jpg', '381.jpg', '441.jpg', '525.jpg', '105.jpg', '576.jpg', '873.jpg', '282.jpg', '935.jpg', '1086.jpg', '320.jpg', '337.jpg', '1071.jpg', '876.jpg', '36.jpg', '551.jpg', '269.jpg', '886.jpg', '240.jpg', '677.jpg', '535.jpg', '480.jpg', '83.jpg', '210.jpg', '347.jpg', '311.jpg', '911.jpg', '823.jpg', '419.jpg', '765.jpg', '415.jpg', '843.jpg', '193.jpg', '916.jpg', '1005.jpg', '874.jpg', '1029.jpg', '1000.jpg', '611.jpg', '285.jpg', '690.jpg', '64.jpg', '247.jpg', '517.jpg', '9.jpg', '645.jpg', '37.jpg', '660.jpg', '119.jpg', '559.jpg', '229.jpg', '321.jpg', '657.jpg', '834.jpg', '166.jpg', '454.jpg', '268.jpg', '450.jpg', '805.jpg', '684.jpg', '237.jpg', '643.jpg', '686.jpg', '401.jpg', '882.jpg', '173.jpg', '1034.jpg', '71.jpg', '184.jpg', '1078.jpg', '513.jpg', '909.jpg', '836.jpg', '928.jpg', '421.jpg', '1007.jpg', '595.jpg', '462.jpg', '654.jpg', '220.jpg', '323.jpg', '484.jpg', '668.jpg', '519.jpg', '985.jpg', '408.jpg', '273.jpg', '435.jpg', '453.jpg', '120.jpg', '1072.jpg', '436.jpg', '59.jpg', '46.jpg', '238.jpg', '676.jpg', '253.jpg', '1046.jpg', '225.jpg', '295.jpg', '127.jpg', '510.jpg', '558.jpg', '142.jpg', '97.jpg', '549.jpg', '213.jpg', '360.jpg', '953.jpg', '628.jpg', '776.jpg', '1010.jpg', '232.jpg', '750.jpg', '395.jpg', '764.jpg', '61.jpg', '927.jpg', '42.jpg', '589.jpg', '88.jpg', '687.jpg', '100.jpg', '1043.jpg', '903.jpg', '617.jpg', '545.jpg', '286.jpg', '447.jpg', '582.jpg', '322.jpg', '38.jpg', '29.jpg', '43.jpg', '575.jpg', '111.jpg', '948.jpg', '51.jpg', '629.jpg', '747.jpg', '1059.jpg', '1089.jpg', '661.jpg', '200.jpg', '230.jpg', '938.jpg', '837.jpg', '924.jpg', '402.jpg', '639.jpg', '342.jpg', '1082.jpg', '527.jpg', '463.jpg', '721.jpg', '131.jpg', '722.jpg', '349.jpg', '1080.jpg', '406.jpg', '126.jpg', '467.jpg', '224.jpg', '952.jpg', '919.jpg', '567.jpg', '397.jpg', '531.jpg', '1096.jpg', '1006.jpg', '407.jpg', '468.jpg', '744.jpg', '656.jpg', '673.jpg', '3.jpg', '849.jpg', '821.jpg', '968.jpg', '608.jpg', '944.jpg', '56.jpg', '315.jpg', '800.jpg', '214.jpg', '204.jpg', '650.jpg', '712.jpg', '624.jpg', '93.jpg', '790.jpg', '540.jpg', '685.jpg', '199.jpg', '32.jpg', '494.jpg', '987.jpg', '474.jpg', '440.jpg', '796.jpg', '11.jpg', '784.jpg', '969.jpg', '493.jpg', '819.jpg', '993.jpg', '107.jpg', '117.jpg', '524.jpg', '550.jpg', '604.jpg', '552.jpg', '178.jpg', '991.jpg', '191.jpg', '720.jpg', '504.jpg', '756.jpg', '116.jpg', '548.jpg', '1023.jpg', '627.jpg', '895.jpg', '701.jpg', '355.jpg', '130.jpg', '1003.jpg', '1061.jpg', '250.jpg', '390.jpg', '1018.jpg', '601.jpg', '251.jpg', '263.jpg', '461.jpg', '626.jpg', '1036.jpg', '432.jpg', '872.jpg', '662.jpg', '241.jpg', '365.jpg', '907.jpg', '663.jpg', '1091.jpg', '118.jpg', '920.jpg', '470.jpg', '346.jpg', '828.jpg', '375.jpg', '69.jpg', '922.jpg', '1015.jpg', '708.jpg', '416.jpg', '904.jpg', '376.jpg', '159.jpg', '649.jpg', '951.jpg', '848.jpg', '216.jpg', '430.jpg', '7.jpg', '358.jpg', '816.jpg', '86.jpg', '85.jpg', '160.jpg', '529.jpg', '621.jpg', '330.jpg', '158.jpg', '565.jpg', '14.jpg', '192.jpg', '279.jpg', '50.jpg', '990.jpg', '538.jpg', '705.jpg', '667.jpg', '314.jpg', '420.jpg', '725.jpg', '797.jpg', '379.jpg', '208.jpg', '386.jpg', '779.jpg', '1017.jpg', '170.jpg', '706.jpg', '112.jpg', '772.jpg', '28.jpg', '399.jpg', '128.jpg', '155.jpg', '393.jpg', '271.jpg', '55.jpg', '681.jpg', '95.jpg', '511.jpg', '422.jpg', '498.jpg', '724.jpg', '867.jpg', '963.jpg', '74.jpg', '704.jpg', '411.jpg', '635.jpg', '674.jpg', '560.jpg', '799.jpg', '245.jpg', '162.jpg', '203.jpg', '1026.jpg', '297.jpg', '1030.jpg', '839.jpg', '429.jpg', '787.jpg', '424.jpg', '610.jpg', '901.jpg', '339.jpg', '929.jpg', '812.jpg', '945.jpg', '530.jpg', '21.jpg', '209.jpg', '39.jpg', '1067.jpg', '176.jpg', '864.jpg', '161.jpg', '537.jpg', '729.jpg', '81.jpg', '180.jpg', '443.jpg', '308.jpg', '788.jpg', '556.jpg', '716.jpg', '759.jpg', '937.jpg', '114.jpg', '218.jpg', '547.jpg', '469.jpg', '179.jpg', '763.jpg', '145.jpg', '532.jpg', '598.jpg', '672.jpg', '348.jpg', '168.jpg', '34.jpg', '1069.jpg', '108.jpg', '334.jpg', '458.jpg', '121.jpg', '72.jpg', '539.jpg', '954.jpg', '1066.jpg', '1012.jpg', '1074.jpg', '1054.jpg', '863.jpg', '16.jpg', '84.jpg', '206.jpg', '1077.jpg', '688.jpg', '881.jpg', '426.jpg', '620.jpg', '581.jpg', '597.jpg', '163.jpg', '485.jpg', '212.jpg', '490.jpg', '1019.jpg', '427.jpg', '1087.jpg', '769.jpg', '91.jpg', '1013.jpg', '33.jpg', '830.jpg', '509.jpg', '740.jpg', '101.jpg', '975.jpg', '171.jpg', '1025.jpg', '260.jpg', '679.jpg', '785.jpg', '143.jpg', '457.jpg', '802.jpg', '655.jpg', '726.jpg', '400.jpg', '692.jpg', '58.jpg', '190.jpg', '302.jpg', '60.jpg', '98.jpg', '749.jpg', '1081.jpg', '65.jpg', '52.jpg', '497.jpg', '789.jpg', '340.jpg', '596.jpg', '616.jpg', '476.jpg', '344.jpg', '878.jpg', '292.jpg', '1053.jpg', '12.jpg', '362.jpg', '803.jpg', '482.jpg', '76.jpg', '813.jpg', '912.jpg', '638.jpg', '633.jpg', '157.jpg', '808.jpg', '955.jpg', '735.jpg', '534.jpg', '425.jpg', '857.jpg', '897.jpg', '696.jpg', '1033.jpg', '730.jpg', '301.jpg', '1057.jpg', '512.jpg', '862.jpg', '277.jpg', '181.jpg', '304.jpg', '609.jpg', '939.jpg', '762.jpg', '970.jpg', '373.jpg', '1093.jpg', '516.jpg', '925.jpg', '858.jpg', '333.jpg', '950.jpg', '546.jpg', '782.jpg', '332.jpg', '139.jpg', '352.jpg', '174.jpg', '743.jpg', '202.jpg', '341.jpg', '255.jpg', '871.jpg', '988.jpg', '442.jpg', '205.jpg', '786.jpg', '197.jpg', '404.jpg', '957.jpg', '68.jpg', '825.jpg', '481.jpg', '1032.jpg', '507.jpg', '198.jpg', '543.jpg', '755.jpg', '1039.jpg', '122.jpg', '847.jpg', '710.jpg', '1083.jpg', '827.jpg', '367.jpg', '133.jpg', '640.jpg', '976.jpg', '431.jpg', '972.jpg', '605.jpg', '434.jpg', '574.jpg', '622.jpg', '20.jpg', '960.jpg', '577.jpg', '265.jpg', '215.jpg', '890.jpg', '2.jpg', '870.jpg', '82.jpg', '410.jpg', '211.jpg', '254.jpg', '384.jpg', '135.jpg', '514.jpg', '471.jpg', '520.jpg', '791.jpg', '1063.jpg', '300.jpg', '566.jpg', '982.jpg', '1004.jpg', '369.jpg', '732.jpg', '492.jpg', '623.jpg', '678.jpg', '132.jpg', '774.jpg', '456.jpg', '879.jpg', '892.jpg', '1088.jpg', '452.jpg', '477.jpg', '257.jpg', '363.jpg', '898.jpg', '936.jpg', '992.jpg', '594.jpg', '850.jpg', '820.jpg', '940.jpg', '357.jpg', '491.jpg', '978.jpg', '931.jpg', '124.jpg', '806.jpg', '448.jpg', '104.jpg', '793.jpg', '235.jpg', '351.jpg', '151.jpg', '761.jpg', '150.jpg', '15.jpg', '956.jpg', '665.jpg', '6.jpg', '27.jpg', '239.jpg', '137.jpg', '865.jpg', '196.jpg', '501.jpg', '875.jpg', '625.jpg', '1070.jpg', '934.jpg', '437.jpg', '1064.jpg', '223.jpg', '473.jpg', '338.jpg', '287.jpg', '959.jpg', '853.jpg', '335.jpg', '4.jpg', '1014.jpg', '659.jpg', '752.jpg', '564.jpg', '606.jpg', '343.jpg', '298.jpg', '392.jpg', '851.jpg', '489.jpg', '185.jpg', '815.jpg', '697.jpg', '651.jpg', '433.jpg', '495.jpg', '889.jpg', '569.jpg', '242.jpg', '1024.jpg', '186.jpg', '115.jpg', '760.jpg', '646.jpg', '555.jpg', '996.jpg', '75.jpg', '653.jpg', '409.jpg', '590.jpg', '413.jpg', '693.jpg', '997.jpg', '641.jpg', '533.jpg', '318.jpg', '536.jpg', '189.jpg', '141.jpg', '307.jpg', '998.jpg', '25.jpg', '1040.jpg', '1008.jpg', '1.jpg', '388.jpg', '187.jpg', '586.jpg', '885.jpg', '233.jpg', '23.jpg', '583.jpg', '883.jpg', '591.jpg', '856.jpg', '562.jpg', '275.jpg', '568.jpg', '718.jpg', '1076.jpg', '630.jpg', '149.jpg', '140.jpg', '221.jpg', '854.jpg', '1031.jpg', '412.jpg', '906.jpg', '842.jpg', '455.jpg', '389.jpg', '1094.jpg', '737.jpg', '10.jpg', '73.jpg', '600.jpg', '262.jpg', '967.jpg', '152.jpg', '602.jpg', '313.jpg', '1092.jpg', '508.jpg', '391.jpg', '289.jpg', '599.jpg', '30.jpg', '148.jpg', '884.jpg', '354.jpg', '35.jpg', '48.jpg', '845.jpg', '374.jpg', '798.jpg', '488.jpg', '129.jpg', '980.jpg', '746.jpg', '962.jpg', '283.jpg', '281.jpg', '66.jpg', '188.jpg', '398.jpg', '417.jpg', '134.jpg', '54.jpg', '695.jpg', '780.jpg', '824.jpg', '999.jpg', '503.jpg', '926.jpg', '244.jpg', '860.jpg', '1041.jpg', '479.jpg', '770.jpg', '234.jpg', '947.jpg', '272.jpg', '868.jpg', '444.jpg', '368.jpg', '439.jpg', '1052.jpg', '814.jpg', '146.jpg', '905.jpg', '801.jpg', '500.jpg', '713.jpg', '1045.jpg', '592.jpg', '62.jpg', '445.jpg', '175.jpg', '1049.jpg', '966.jpg', '177.jpg', '290.jpg', '521.jpg', '817.jpg', '483.jpg', '113.jpg', '428.jpg', '329.jpg', '1011.jpg', '79.jpg', '22.jpg', '983.jpg', '345.jpg', '293.jpg', '1048.jpg', '557.jpg', '49.jpg', '949.jpg', '310.jpg', '89.jpg', '372.jpg', '994.jpg', '861.jpg', '918.jpg', '1060.jpg', '383.jpg', '666.jpg', '261.jpg', '707.jpg', '915.jpg', '1095.jpg', '499.jpg', '691.jpg', '571.jpg', '700.jpg', '325.jpg', '894.jpg', '792.jpg', '541.jpg', '423.jpg', '147.jpg', '217.jpg', '317.jpg', '460.jpg', '195.jpg', '8.jpg', '109.jpg', '717.jpg', '371.jpg', '675.jpg', '77.jpg', '1058.jpg', '826.jpg', '459.jpg', '18.jpg', '394.jpg', '612.jpg', '328.jpg', '961.jpg', '652.jpg', '528.jpg', '1079.jpg', '67.jpg', '946.jpg', '553.jpg', '578.jpg', '748.jpg', '1009.jpg', '544.jpg', '930.jpg', '637.jpg', '880.jpg', '811.jpg', '778.jpg', '807.jpg', '869.jpg', '1044.jpg', '715.jpg', '353.jpg', '522.jpg', '41.jpg', '607.jpg', '299.jpg', '40.jpg', '306.jpg', '172.jpg', '741.jpg', '405.jpg', '738.jpg', '246.jpg', '258.jpg', '26.jpg', '228.jpg', '1065.jpg', '324.jpg', '670.jpg', '731.jpg', '92.jpg', '1027.jpg', '855.jpg', '1002.jpg', '580.jpg', '478.jpg', '319.jpg', '979.jpg', '669.jpg', '561.jpg', '138.jpg']\n",
            "['758.jpg', '634.jpg', '169.jpg', '917.jpg', '822.jpg', '364.jpg', '795.jpg', '24.jpg', '356.jpg', '256.jpg', '63.jpg', '80.jpg', '236.jpg', '267.jpg', '182.jpg', '809.jpg', '17.jpg', '766.jpg', '266.jpg', '964.jpg', '252.jpg', '1090.jpg', '973.jpg', '703.jpg', '331.jpg', '587.jpg', '248.jpg', '1047.jpg', '588.jpg', '636.jpg', '284.jpg', '739.jpg', '714.jpg', '57.jpg', '757.jpg', '78.jpg', '781.jpg', '312.jpg', '1073.jpg', '893.jpg', '542.jpg', '977.jpg', '631.jpg', '702.jpg', '464.jpg', '727.jpg', '243.jpg', '644.jpg', '694.jpg', '523.jpg', '900.jpg', '734.jpg', '506.jpg', '403.jpg', '303.jpg', '888.jpg', '579.jpg', '31.jpg', '382.jpg', '615.jpg', '231.jpg', '449.jpg', '974.jpg', '632.jpg', '222.jpg', '923.jpg', '380.jpg', '932.jpg', '496.jpg', '719.jpg', '47.jpg', '125.jpg', '572.jpg', '736.jpg', '593.jpg', '981.jpg', '309.jpg', '414.jpg', '276.jpg', '270.jpg', '144.jpg', '296.jpg', '723.jpg', '910.jpg', '1022.jpg', '1001.jpg', '465.jpg', '942.jpg', '728.jpg', '226.jpg', '773.jpg', '570.jpg', '913.jpg', '783.jpg', '153.jpg', '768.jpg', '280.jpg', '326.jpg', '753.jpg', '5.jpg', '771.jpg', '647.jpg', '899.jpg', '754.jpg', '291.jpg', '648.jpg', '167.jpg', '396.jpg', '136.jpg', '995.jpg', '958.jpg', '475.jpg', '841.jpg', '852.jpg', '502.jpg', '943.jpg', '387.jpg', '971.jpg', '902.jpg', '110.jpg', '584.jpg', '554.jpg', '777.jpg', '829.jpg', '921.jpg', '518.jpg', '618.jpg', '986.jpg', '294.jpg', '156.jpg', '316.jpg', '941.jpg', '44.jpg', '859.jpg', '103.jpg', '350.jpg', '1068.jpg', '614.jpg', '249.jpg', '446.jpg', '1037.jpg', '1038.jpg', '838.jpg', '563.jpg', '804.jpg', '751.jpg', '106.jpg', '742.jpg', '53.jpg', '711.jpg', '833.jpg', '891.jpg', '102.jpg', '378.jpg', '818.jpg', '846.jpg', '1021.jpg', '745.jpg', '1085.jpg', '699.jpg', '1035.jpg', '366.jpg', '1056.jpg', '370.jpg', '840.jpg', '908.jpg', '70.jpg', '775.jpg', '680.jpg', '183.jpg', '989.jpg', '96.jpg', '438.jpg', '165.jpg', '264.jpg', '472.jpg', '90.jpg', '1042.jpg', '658.jpg', '278.jpg', '418.jpg', '99.jpg', '94.jpg', '207.jpg', '361.jpg', '154.jpg', '585.jpg', '13.jpg', '515.jpg', '359.jpg', '613.jpg', '505.jpg', '1028.jpg', '689.jpg', '451.jpg', '887.jpg', '259.jpg', '866.jpg', '1051.jpg', '896.jpg', '1050.jpg', '201.jpg', '487.jpg', '933.jpg', '227.jpg', '603.jpg', '305.jpg', '194.jpg', '794.jpg', '573.jpg', '914.jpg', '219.jpg', '274.jpg', '671.jpg', '327.jpg', '377.jpg', '336.jpg', '810.jpg', '835.jpg', '767.jpg', '45.jpg', '844.jpg', '831.jpg', '1055.jpg', '709.jpg', '619.jpg', '87.jpg', '288.jpg', '832.jpg', '733.jpg', '526.jpg', '19.jpg', '1062.jpg', '466.jpg', '698.jpg', '1016.jpg', '385.jpg', '164.jpg', '984.jpg', '682.jpg', '965.jpg', '877.jpg', '486.jpg', '1084.jpg', '123.jpg', '1020.jpg', '664.jpg', '683.jpg', '642.jpg', '1075.jpg', '381.jpg', '441.jpg', '525.jpg', '105.jpg', '576.jpg', '873.jpg', '282.jpg', '935.jpg', '1086.jpg', '320.jpg', '337.jpg', '1071.jpg', '876.jpg', '36.jpg', '551.jpg', '269.jpg', '886.jpg', '240.jpg', '677.jpg', '535.jpg', '480.jpg', '83.jpg', '210.jpg', '347.jpg', '311.jpg', '911.jpg', '823.jpg', '419.jpg', '765.jpg', '415.jpg', '843.jpg', '193.jpg', '916.jpg', '1005.jpg', '874.jpg', '1029.jpg', '1000.jpg', '611.jpg', '285.jpg', '690.jpg', '64.jpg', '247.jpg', '517.jpg', '9.jpg', '645.jpg', '37.jpg', '660.jpg', '119.jpg', '559.jpg', '229.jpg', '321.jpg', '657.jpg', '834.jpg', '166.jpg', '454.jpg', '268.jpg', '450.jpg', '805.jpg', '684.jpg', '237.jpg', '643.jpg', '686.jpg', '401.jpg', '882.jpg', '173.jpg', '1034.jpg', '71.jpg', '184.jpg', '1078.jpg', '513.jpg', '909.jpg', '836.jpg', '928.jpg', '421.jpg', '1007.jpg', '595.jpg', '462.jpg', '654.jpg', '220.jpg', '323.jpg', '484.jpg', '668.jpg', '519.jpg', '985.jpg', '408.jpg', '273.jpg', '435.jpg', '453.jpg', '120.jpg', '1072.jpg', '436.jpg', '59.jpg', '46.jpg', '238.jpg', '676.jpg', '253.jpg', '1046.jpg', '225.jpg', '295.jpg', '127.jpg', '510.jpg', '558.jpg', '142.jpg', '97.jpg', '549.jpg', '213.jpg', '360.jpg', '953.jpg', '628.jpg', '776.jpg', '1010.jpg', '232.jpg', '750.jpg', '395.jpg', '764.jpg', '61.jpg', '927.jpg', '42.jpg', '589.jpg', '88.jpg', '687.jpg', '100.jpg', '1043.jpg', '903.jpg', '617.jpg', '545.jpg', '286.jpg', '447.jpg', '582.jpg', '322.jpg', '38.jpg', '29.jpg', '43.jpg', '575.jpg', '111.jpg', '948.jpg', '51.jpg', '629.jpg', '747.jpg', '1059.jpg', '1089.jpg', '661.jpg', '200.jpg', '230.jpg', '938.jpg', '837.jpg', '924.jpg', '402.jpg', '639.jpg', '342.jpg', '1082.jpg', '527.jpg', '463.jpg', '721.jpg', '131.jpg', '722.jpg', '349.jpg', '1080.jpg', '406.jpg', '126.jpg', '467.jpg', '224.jpg', '952.jpg', '919.jpg', '567.jpg', '397.jpg', '531.jpg', '1096.jpg', '1006.jpg', '407.jpg', '468.jpg', '744.jpg', '656.jpg', '673.jpg', '3.jpg', '849.jpg', '821.jpg', '968.jpg', '608.jpg', '944.jpg', '56.jpg', '315.jpg', '800.jpg', '214.jpg', '204.jpg', '650.jpg', '712.jpg', '624.jpg', '93.jpg', '790.jpg', '540.jpg', '685.jpg', '199.jpg', '32.jpg', '494.jpg', '987.jpg', '474.jpg', '440.jpg', '796.jpg', '11.jpg', '784.jpg', '969.jpg', '493.jpg', '819.jpg', '993.jpg', '107.jpg', '117.jpg', '524.jpg', '550.jpg', '604.jpg', '552.jpg', '178.jpg', '991.jpg', '191.jpg', '720.jpg', '504.jpg', '756.jpg', '116.jpg', '548.jpg', '1023.jpg', '627.jpg', '895.jpg', '701.jpg', '355.jpg', '130.jpg', '1003.jpg', '1061.jpg', '250.jpg', '390.jpg', '1018.jpg', '601.jpg', '251.jpg', '263.jpg', '461.jpg', '626.jpg', '1036.jpg', '432.jpg', '872.jpg', '662.jpg', '241.jpg', '365.jpg', '907.jpg', '663.jpg', '1091.jpg', '118.jpg', '920.jpg', '470.jpg', '346.jpg', '828.jpg', '375.jpg', '69.jpg', '922.jpg', '1015.jpg', '708.jpg', '416.jpg', '904.jpg', '376.jpg', '159.jpg', '649.jpg', '951.jpg', '848.jpg', '216.jpg', '430.jpg', '7.jpg', '358.jpg', '816.jpg', '86.jpg', '85.jpg', '160.jpg', '529.jpg', '621.jpg', '330.jpg', '158.jpg', '565.jpg', '14.jpg', '192.jpg', '279.jpg', '50.jpg', '990.jpg', '538.jpg', '705.jpg', '667.jpg', '314.jpg', '420.jpg', '725.jpg', '797.jpg', '379.jpg', '208.jpg', '386.jpg', '779.jpg', '1017.jpg', '170.jpg', '706.jpg', '112.jpg', '772.jpg', '28.jpg', '399.jpg', '128.jpg', '155.jpg', '393.jpg', '271.jpg', '55.jpg', '681.jpg', '95.jpg', '511.jpg', '422.jpg', '498.jpg', '724.jpg', '867.jpg', '963.jpg', '74.jpg', '704.jpg', '411.jpg', '635.jpg', '674.jpg', '560.jpg', '799.jpg', '245.jpg', '162.jpg', '203.jpg', '1026.jpg', '297.jpg', '1030.jpg', '839.jpg', '429.jpg', '787.jpg', '424.jpg', '610.jpg', '901.jpg', '339.jpg', '929.jpg', '812.jpg', '945.jpg', '530.jpg', '21.jpg', '209.jpg', '39.jpg', '1067.jpg', '176.jpg', '864.jpg', '161.jpg', '537.jpg', '729.jpg', '81.jpg', '180.jpg', '443.jpg', '308.jpg', '788.jpg', '556.jpg', '716.jpg', '759.jpg', '937.jpg', '114.jpg', '218.jpg', '547.jpg', '469.jpg', '179.jpg', '763.jpg', '145.jpg', '532.jpg', '598.jpg', '672.jpg', '348.jpg', '168.jpg', '34.jpg', '1069.jpg', '108.jpg', '334.jpg', '458.jpg', '121.jpg', '72.jpg', '539.jpg', '954.jpg', '1066.jpg', '1012.jpg', '1074.jpg', '1054.jpg', '863.jpg', '16.jpg', '84.jpg', '206.jpg', '1077.jpg', '688.jpg', '881.jpg', '426.jpg', '620.jpg', '581.jpg', '597.jpg', '163.jpg', '485.jpg', '212.jpg', '490.jpg', '1019.jpg', '427.jpg', '1087.jpg', '769.jpg', '91.jpg', '1013.jpg', '33.jpg', '830.jpg', '509.jpg', '740.jpg', '101.jpg', '975.jpg', '171.jpg', '1025.jpg', '260.jpg', '679.jpg', '785.jpg', '143.jpg', '457.jpg', '802.jpg', '655.jpg', '726.jpg', '400.jpg', '692.jpg', '58.jpg', '190.jpg', '302.jpg', '60.jpg', '98.jpg', '749.jpg', '1081.jpg', '65.jpg', '52.jpg', '497.jpg', '789.jpg', '340.jpg', '596.jpg', '616.jpg', '476.jpg', '344.jpg', '878.jpg', '292.jpg', '1053.jpg', '12.jpg', '362.jpg', '803.jpg', '482.jpg', '76.jpg', '813.jpg', '912.jpg', '638.jpg', '633.jpg', '157.jpg', '808.jpg', '955.jpg', '735.jpg', '534.jpg', '425.jpg', '857.jpg', '897.jpg', '696.jpg', '1033.jpg', '730.jpg', '301.jpg', '1057.jpg', '512.jpg', '862.jpg', '277.jpg', '181.jpg', '304.jpg', '609.jpg', '939.jpg', '762.jpg', '970.jpg', '373.jpg', '1093.jpg', '516.jpg', '925.jpg', '858.jpg', '333.jpg', '950.jpg', '546.jpg', '782.jpg', '332.jpg', '139.jpg', '352.jpg', '174.jpg', '743.jpg', '202.jpg', '341.jpg', '255.jpg', '871.jpg', '988.jpg', '442.jpg', '205.jpg', '786.jpg', '197.jpg', '404.jpg', '957.jpg', '68.jpg', '825.jpg', '481.jpg', '1032.jpg', '507.jpg', '198.jpg', '543.jpg', '755.jpg', '1039.jpg', '122.jpg', '847.jpg', '710.jpg', '1083.jpg', '827.jpg', '367.jpg', '133.jpg', '640.jpg', '976.jpg', '431.jpg', '972.jpg', '605.jpg', '434.jpg', '574.jpg', '622.jpg', '20.jpg', '960.jpg', '577.jpg', '265.jpg', '215.jpg', '890.jpg', '2.jpg', '870.jpg', '82.jpg', '410.jpg', '211.jpg', '254.jpg', '384.jpg', '135.jpg', '514.jpg', '471.jpg', '520.jpg', '791.jpg', '1063.jpg', '300.jpg', '566.jpg', '982.jpg', '1004.jpg', '369.jpg', '732.jpg', '492.jpg', '623.jpg', '678.jpg', '132.jpg', '774.jpg', '456.jpg', '879.jpg', '892.jpg', '1088.jpg', '452.jpg', '477.jpg', '257.jpg', '363.jpg', '898.jpg', '936.jpg', '992.jpg', '594.jpg', '850.jpg', '820.jpg', '940.jpg', '357.jpg', '491.jpg', '978.jpg', '931.jpg', '124.jpg', '806.jpg', '448.jpg', '104.jpg', '793.jpg', '235.jpg', '351.jpg', '151.jpg', '761.jpg', '150.jpg', '15.jpg', '956.jpg', '665.jpg', '6.jpg', '27.jpg', '239.jpg', '137.jpg', '865.jpg', '196.jpg', '501.jpg', '875.jpg', '625.jpg', '1070.jpg', '934.jpg', '437.jpg', '1064.jpg', '223.jpg', '473.jpg', '338.jpg', '287.jpg', '959.jpg', '853.jpg', '335.jpg', '4.jpg', '1014.jpg', '659.jpg', '752.jpg', '564.jpg', '606.jpg', '343.jpg', '298.jpg', '392.jpg', '851.jpg', '489.jpg', '185.jpg', '815.jpg', '697.jpg', '651.jpg', '433.jpg', '495.jpg', '889.jpg', '569.jpg', '242.jpg', '1024.jpg', '186.jpg', '115.jpg', '760.jpg', '646.jpg', '555.jpg', '996.jpg', '75.jpg', '653.jpg', '409.jpg', '590.jpg', '413.jpg', '693.jpg', '997.jpg', '641.jpg', '533.jpg', '318.jpg', '536.jpg', '189.jpg', '141.jpg', '307.jpg', '998.jpg', '25.jpg', '1040.jpg', '1008.jpg', '1.jpg', '388.jpg', '187.jpg', '586.jpg', '885.jpg', '233.jpg', '23.jpg', '583.jpg', '883.jpg', '591.jpg', '856.jpg', '562.jpg', '275.jpg', '568.jpg', '718.jpg', '1076.jpg', '630.jpg', '149.jpg', '140.jpg', '221.jpg', '854.jpg', '1031.jpg', '412.jpg', '906.jpg', '842.jpg', '455.jpg', '389.jpg', '1094.jpg', '737.jpg', '10.jpg', '73.jpg', '600.jpg', '262.jpg', '967.jpg', '152.jpg', '602.jpg', '313.jpg', '1092.jpg', '508.jpg', '391.jpg', '289.jpg', '599.jpg', '30.jpg', '148.jpg', '884.jpg', '354.jpg', '35.jpg', '48.jpg', '845.jpg', '374.jpg', '798.jpg', '488.jpg', '129.jpg', '980.jpg', '746.jpg', '962.jpg', '283.jpg', '281.jpg', '66.jpg', '188.jpg', '398.jpg', '417.jpg', '134.jpg', '54.jpg', '695.jpg', '780.jpg', '824.jpg', '999.jpg', '503.jpg', '926.jpg', '244.jpg', '860.jpg', '1041.jpg', '479.jpg', '770.jpg', '234.jpg', '947.jpg', '272.jpg', '868.jpg', '444.jpg', '368.jpg', '439.jpg', '1052.jpg', '814.jpg', '146.jpg', '905.jpg', '801.jpg', '500.jpg', '713.jpg', '1045.jpg', '592.jpg', '62.jpg', '445.jpg', '175.jpg', '1049.jpg', '966.jpg', '177.jpg', '290.jpg', '521.jpg', '817.jpg', '483.jpg', '113.jpg', '428.jpg', '329.jpg', '1011.jpg', '79.jpg', '22.jpg', '983.jpg', '345.jpg', '293.jpg', '1048.jpg', '557.jpg', '49.jpg', '949.jpg', '310.jpg', '89.jpg', '372.jpg', '994.jpg', '861.jpg', '918.jpg', '1060.jpg', '383.jpg', '666.jpg', '261.jpg', '707.jpg', '915.jpg', '1095.jpg', '499.jpg', '691.jpg', '571.jpg', '700.jpg', '325.jpg', '894.jpg', '792.jpg', '541.jpg', '423.jpg', '147.jpg', '217.jpg', '317.jpg', '460.jpg', '195.jpg', '8.jpg', '109.jpg', '717.jpg', '371.jpg', '675.jpg', '77.jpg', '1058.jpg', '826.jpg', '459.jpg', '18.jpg', '394.jpg', '612.jpg', '328.jpg', '961.jpg', '652.jpg', '528.jpg', '1079.jpg', '67.jpg', '946.jpg', '553.jpg', '578.jpg', '748.jpg', '1009.jpg', '544.jpg', '930.jpg', '637.jpg', '880.jpg', '811.jpg', '778.jpg', '807.jpg', '869.jpg', '1044.jpg', '715.jpg', '353.jpg', '522.jpg', '41.jpg', '607.jpg', '299.jpg', '40.jpg', '306.jpg', '172.jpg', '741.jpg', '1098.jpg', '1097.jpg', '405.jpg', '738.jpg', '246.jpg', '258.jpg', '26.jpg', '228.jpg', '1065.jpg', '324.jpg', '670.jpg', '731.jpg', '92.jpg', '1027.jpg', '855.jpg', '1002.jpg', '580.jpg', '478.jpg', '319.jpg', '979.jpg', '669.jpg', '561.jpg', '138.jpg']\n",
            "100% 69/69 [00:24<00:00,  2.76it/s]\n",
            "=> Saving checkpoint\n",
            "=> Saving checkpoint\n",
            "100% 69/69 [00:13<00:00,  5.17it/s]\n",
            "100% 69/69 [00:13<00:00,  5.14it/s]\n",
            "100% 69/69 [00:13<00:00,  5.13it/s]\n",
            "100% 69/69 [00:13<00:00,  5.09it/s]\n",
            "100% 69/69 [00:13<00:00,  5.04it/s]\n",
            "=> Saving checkpoint\n",
            "=> Saving checkpoint\n",
            "100% 69/69 [00:14<00:00,  4.92it/s]\n",
            "100% 69/69 [00:14<00:00,  4.86it/s]\n",
            "100% 69/69 [00:14<00:00,  4.84it/s]\n",
            "100% 69/69 [00:14<00:00,  4.84it/s]\n"
          ]
        }
      ]
    },
    {
      "cell_type": "markdown",
      "source": [
        "## Save"
      ],
      "metadata": {
        "id": "IZiw--6RMyIu"
      }
    },
    {
      "cell_type": "code",
      "source": [
        "!zip -qr evaluation.zip evaluation\n",
        "from google.colab import files\n",
        "files.download(\"evaluation.zip\")"
      ],
      "metadata": {
        "colab": {
          "base_uri": "https://localhost:8080/",
          "height": 17
        },
        "id": "9auonyJWMST6",
        "outputId": "b27cee6a-01d2-49b0-b6cf-98545b0505b3"
      },
      "execution_count": 7,
      "outputs": [
        {
          "output_type": "display_data",
          "data": {
            "text/plain": [
              "<IPython.core.display.Javascript object>"
            ],
            "application/javascript": [
              "\n",
              "    async function download(id, filename, size) {\n",
              "      if (!google.colab.kernel.accessAllowed) {\n",
              "        return;\n",
              "      }\n",
              "      const div = document.createElement('div');\n",
              "      const label = document.createElement('label');\n",
              "      label.textContent = `Downloading \"${filename}\": `;\n",
              "      div.appendChild(label);\n",
              "      const progress = document.createElement('progress');\n",
              "      progress.max = size;\n",
              "      div.appendChild(progress);\n",
              "      document.body.appendChild(div);\n",
              "\n",
              "      const buffers = [];\n",
              "      let downloaded = 0;\n",
              "\n",
              "      const channel = await google.colab.kernel.comms.open(id);\n",
              "      // Send a message to notify the kernel that we're ready.\n",
              "      channel.send({})\n",
              "\n",
              "      for await (const message of channel.messages) {\n",
              "        // Send a message to notify the kernel that we're ready.\n",
              "        channel.send({})\n",
              "        if (message.buffers) {\n",
              "          for (const buffer of message.buffers) {\n",
              "            buffers.push(buffer);\n",
              "            downloaded += buffer.byteLength;\n",
              "            progress.value = downloaded;\n",
              "          }\n",
              "        }\n",
              "      }\n",
              "      const blob = new Blob(buffers, {type: 'application/binary'});\n",
              "      const a = document.createElement('a');\n",
              "      a.href = window.URL.createObjectURL(blob);\n",
              "      a.download = filename;\n",
              "      div.appendChild(a);\n",
              "      a.click();\n",
              "      div.remove();\n",
              "    }\n",
              "  "
            ]
          },
          "metadata": {}
        },
        {
          "output_type": "display_data",
          "data": {
            "text/plain": [
              "<IPython.core.display.Javascript object>"
            ],
            "application/javascript": [
              "download(\"download_f4178544-e431-49d0-babc-10fcce9d2b4b\", \"evaluation.zip\", 2841066)"
            ]
          },
          "metadata": {}
        }
      ]
    },
    {
      "cell_type": "code",
      "source": [
        "!cp gen.pth.tar  /content/drive/MyDrive/gen.pth.tar\n",
        "!cp disc.pth.tar  /content/drive/MyDrive/disc.pth.tar"
      ],
      "metadata": {
        "id": "KsaU9aa_MpIw"
      },
      "execution_count": 8,
      "outputs": []
    }
  ]
}