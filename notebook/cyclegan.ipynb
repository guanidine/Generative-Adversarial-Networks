{
 "nbformat": 4,
 "nbformat_minor": 0,
 "metadata": {
  "colab": {
   "provenance": [],
   "machine_shape": "hm",
   "authorship_tag": "ABX9TyNA69EBL53f6f3RYuiWgFVP",
   "include_colab_link": true
  },
  "kernelspec": {
   "name": "python3",
   "display_name": "Python 3"
  },
  "language_info": {
   "name": "python"
  },
  "accelerator": "GPU",
  "gpuClass": "standard"
 },
 "cells": [
  {
   "cell_type": "markdown",
   "metadata": {
    "id": "view-in-github",
    "colab_type": "text"
   },
   "source": [
    "<a href=\"https://colab.research.google.com/github/guanidine/Generative-Adversarial-Networks/blob/main/notebook/cyclegan.ipynb\" target=\"_parent\"><img src=\"https://colab.research.google.com/assets/colab-badge.svg\" alt=\"Open In Colab\"/></a>"
   ]
  },
  {
   "cell_type": "markdown",
   "source": [
    "## Preparation"
   ],
   "metadata": {
    "id": "-dI-MHRJKnuU"
   }
  },
  {
   "cell_type": "code",
   "execution_count": 1,
   "metadata": {
    "colab": {
     "base_uri": "https://localhost:8080/"
    },
    "id": "EcKmwVkHFPIX",
    "outputId": "91d7777b-6746-465c-d05a-dd54265325b6"
   },
   "outputs": [
    {
     "output_type": "stream",
     "name": "stdout",
     "text": [
      "Cloning into 'Generative-Adversarial-Networks'...\n",
      "remote: Enumerating objects: 207, done.\u001B[K\n",
      "remote: Counting objects: 100% (161/161), done.\u001B[K\n",
      "remote: Compressing objects: 100% (121/121), done.\u001B[K\n",
      "remote: Total 207 (delta 69), reused 108 (delta 35), pack-reused 46\u001B[K\n",
      "Receiving objects: 100% (207/207), 76.83 MiB | 17.71 MiB/s, done.\n",
      "Resolving deltas: 100% (71/71), done.\n"
     ]
    }
   ],
   "source": [
    "!git clone https://github.com/guanidine/Generative-Adversarial-Networks.git"
   ]
  },
  {
   "cell_type": "code",
   "source": [
    "%cd Generative-Adversarial-Networks/07.CycleGAN"
   ],
   "metadata": {
    "colab": {
     "base_uri": "https://localhost:8080/"
    },
    "id": "E57Rd9XHF51f",
    "outputId": "72055e78-2cd5-40ac-b627-37d6dcb1b16a"
   },
   "execution_count": 2,
   "outputs": [
    {
     "output_type": "stream",
     "name": "stdout",
     "text": [
      "/content/Generative-Adversarial-Networks/07.CycleGAN\n"
     ]
    }
   ]
  },
  {
   "cell_type": "code",
   "source": [
    "# Upload data/map, *.pth.tar to Drive first\n",
    "from google.colab import drive\n",
    "drive.mount('/content/drive',force_remount = True)"
   ],
   "metadata": {
    "colab": {
     "base_uri": "https://localhost:8080/"
    },
    "id": "MlnOcCNAGN7v",
    "outputId": "cfcce325-fcb8-4805-9d08-d64a228eba88"
   },
   "execution_count": 3,
   "outputs": [
    {
     "output_type": "stream",
     "name": "stdout",
     "text": [
      "Mounted at /content/drive\n"
     ]
    }
   ]
  },
  {
   "cell_type": "code",
   "source": [
    "!unzip -q /content/drive/MyDrive/data.zip\n",
    "!cp  /content/drive/MyDrive/genh.pth.tar genh.pth.tar\n",
    "!cp  /content/drive/MyDrive/genz.pth.tar genz.pth.tar\n",
    "!cp  /content/drive/MyDrive/critich.pth.tar critich.pth.tar\n",
    "!cp  /content/drive/MyDrive/criticz.pth.tar criticz.pth.tar\n",
    "!mkdir saved_images"
   ],
   "metadata": {
    "id": "6bjAoKAsIf7r"
   },
   "execution_count": 4,
   "outputs": []
  },
  {
   "cell_type": "markdown",
   "source": [
    "## Train"
   ],
   "metadata": {
    "id": "81ts_oeQKq-s"
   }
  },
  {
   "cell_type": "code",
   "source": [
    "!sed -i '13s/200/1/' config.py"
   ],
   "metadata": {
    "id": "KwCa3Vz6KvJm"
   },
   "execution_count": 5,
   "outputs": []
  },
  {
   "cell_type": "code",
   "source": [
    "!python train.py"
   ],
   "metadata": {
    "colab": {
     "base_uri": "https://localhost:8080/"
    },
    "id": "pBGvt_xaIjIR",
    "outputId": "14f3d9ac-26e2-43ef-a4a5-76cc12805bab"
   },
   "execution_count": 6,
   "outputs": [
    {
     "output_type": "stream",
     "name": "stdout",
     "text": [
      "=> Loading checkpoint\n",
      "=> Loading checkpoint\n",
      "=> Loading checkpoint\n",
      "=> Loading checkpoint\n",
      "100% 1334/1334 [04:56<00:00,  4.51it/s]\n",
      "=> Saving checkpoint\n",
      "=> Saving checkpoint\n",
      "=> Saving checkpoint\n",
      "=> Saving checkpoint\n"
     ]
    }
   ]
  },
  {
   "cell_type": "markdown",
   "source": [
    "## Save"
   ],
   "metadata": {
    "id": "IZiw--6RMyIu"
   }
  },
  {
   "cell_type": "code",
   "source": [
    "!zip -qr saved_images.zip saved_images\n",
    "from google.colab import files\n",
    "files.download(\"saved_images.zip\")"
   ],
   "metadata": {
    "colab": {
     "base_uri": "https://localhost:8080/",
     "height": 17
    },
    "id": "9auonyJWMST6",
    "outputId": "2fcf5388-4efb-497c-d31f-cd69f017ea66"
   },
   "execution_count": 7,
   "outputs": [
    {
     "output_type": "display_data",
     "data": {
      "text/plain": [
       "<IPython.core.display.Javascript object>"
      ],
      "application/javascript": [
       "\n",
       "    async function download(id, filename, size) {\n",
       "      if (!google.colab.kernel.accessAllowed) {\n",
       "        return;\n",
       "      }\n",
       "      const div = document.createElement('div');\n",
       "      const label = document.createElement('label');\n",
       "      label.textContent = `Downloading \"${filename}\": `;\n",
       "      div.appendChild(label);\n",
       "      const progress = document.createElement('progress');\n",
       "      progress.max = size;\n",
       "      div.appendChild(progress);\n",
       "      document.body.appendChild(div);\n",
       "\n",
       "      const buffers = [];\n",
       "      let downloaded = 0;\n",
       "\n",
       "      const channel = await google.colab.kernel.comms.open(id);\n",
       "      // Send a message to notify the kernel that we're ready.\n",
       "      channel.send({})\n",
       "\n",
       "      for await (const message of channel.messages) {\n",
       "        // Send a message to notify the kernel that we're ready.\n",
       "        channel.send({})\n",
       "        if (message.buffers) {\n",
       "          for (const buffer of message.buffers) {\n",
       "            buffers.push(buffer);\n",
       "            downloaded += buffer.byteLength;\n",
       "            progress.value = downloaded;\n",
       "          }\n",
       "        }\n",
       "      }\n",
       "      const blob = new Blob(buffers, {type: 'application/binary'});\n",
       "      const a = document.createElement('a');\n",
       "      a.href = window.URL.createObjectURL(blob);\n",
       "      a.download = filename;\n",
       "      div.appendChild(a);\n",
       "      a.click();\n",
       "      div.remove();\n",
       "    }\n",
       "  "
      ]
     },
     "metadata": {}
    },
    {
     "output_type": "display_data",
     "data": {
      "text/plain": [
       "<IPython.core.display.Javascript object>"
      ],
      "application/javascript": [
       "download(\"download_12ef247a-4a46-45b7-a4ff-6bf57e29eb0e\", \"saved_images.zip\", 1947771)"
      ]
     },
     "metadata": {}
    }
   ]
  },
  {
   "cell_type": "code",
   "source": [
    "!cp  genh.pth.tar /content/drive/MyDrive/genh.pth.tar\n",
    "!cp  genz.pth.tar /content/drive/MyDrive/genz.pth.tar\n",
    "!cp  critich.pth.tar /content/drive/MyDrive/critich.pth.tar\n",
    "!cp  criticz.pth.tar /content/drive/MyDrive/criticz.pth.tar"
   ],
   "metadata": {
    "id": "KsaU9aa_MpIw"
   },
   "execution_count": 8,
   "outputs": []
  }
 ]
}
